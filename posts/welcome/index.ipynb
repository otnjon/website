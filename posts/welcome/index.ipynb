{
 "cells": [
  {
   "cell_type": "raw",
   "id": "71bf1a65-f610-4867-93c9-9669ad14f480",
   "metadata": {},
   "source": [
    "---\n",
    "title: \"Welcome To My Blog\"\n",
    "author: \"Jonathan Freed\"\n",
    "date: \"2022-09-21\"\n",
    "categories: [news]\n",
    "---"
   ]
  },
  {
   "cell_type": "markdown",
   "id": "a91c76bd-d989-4ae6-b3f1-72e27077f0bd",
   "metadata": {},
   "source": [
    "This is the first post in a Quarto blog. Welcome!\n",
    "\n",
    "![](thumbnail.jpg)\n",
    "\n",
    "Since this post doesn't specify an explicit `image`, the first image in the post will be used in the listing page of posts.\n"
   ]
  }
 ],
 "metadata": {
  "kernelspec": {
   "display_name": "Python 3 (ipykernel)",
   "language": "python",
   "name": "python3"
  },
  "language_info": {
   "codemirror_mode": {
    "name": "ipython",
    "version": 3
   },
   "file_extension": ".py",
   "mimetype": "text/x-python",
   "name": "python",
   "nbconvert_exporter": "python",
   "pygments_lexer": "ipython3",
   "version": "3.10.6"
  }
 },
 "nbformat": 4,
 "nbformat_minor": 5
}
