{
 "cells": [
  {
   "cell_type": "raw",
   "id": "36a2e82b-bf87-4055-84fb-e57a10ba4164",
   "metadata": {},
   "source": [
    "---\n",
    "title: \"Works in Canvas\"\n",
    "author: \"Jonathan Freed\"\n",
    "date: \"2022-09-21\"\n",
    "categories: [art, folding, canvas]\n",
    "image: \"image.jpg\"\n",
    "---\n",
    "\n",
    "\n"
   ]
  },
  {
   "cell_type": "code",
   "execution_count": null,
   "id": "d8954a3d-7141-4707-aeef-b20789b0503d",
   "metadata": {},
   "outputs": [],
   "source": [
    "![](~/images/yellow_small.jpg)"
   ]
  }
 ],
 "metadata": {
  "kernelspec": {
   "display_name": "Python 3 (ipykernel)",
   "language": "python",
   "name": "python3"
  },
  "language_info": {
   "codemirror_mode": {
    "name": "ipython",
    "version": 3
   },
   "file_extension": ".py",
   "mimetype": "text/x-python",
   "name": "python",
   "nbconvert_exporter": "python",
   "pygments_lexer": "ipython3",
   "version": "3.10.6"
  }
 },
 "nbformat": 4,
 "nbformat_minor": 5
}
