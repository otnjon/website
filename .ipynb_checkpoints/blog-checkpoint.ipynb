{
 "cells": [
  {
   "cell_type": "raw",
   "id": "c617d7a1-7b36-496b-9f4d-4feeaf64621b",
   "metadata": {},
   "source": [
    "---\n",
    "title: \"Blog\"\n",
    "listing:\n",
    "  contents: posts\n",
    "  sort: \"date desc\"\n",
    "  type: default\n",
    "  categories: true\n",
    "  sort-ui: false\n",
    "  filter-ui: false\n",
    "page-layout: full\n",
    "title-block-banner: true\n",
    "---"
   ]
  },
  {
   "cell_type": "markdown",
   "id": "16b30ab7-f464-4f4b-b90f-34d7a6a3e9f8",
   "metadata": {},
   "source": [
    "This is a test"
   ]
  }
 ],
 "metadata": {
  "kernelspec": {
   "display_name": "Python 3 (ipykernel)",
   "language": "python",
   "name": "python3"
  },
  "language_info": {
   "codemirror_mode": {
    "name": "ipython",
    "version": 3
   },
   "file_extension": ".py",
   "mimetype": "text/x-python",
   "name": "python",
   "nbconvert_exporter": "python",
   "pygments_lexer": "ipython3",
   "version": "3.10.6"
  }
 },
 "nbformat": 4,
 "nbformat_minor": 5
}
