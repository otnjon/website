{
 "cells": [
  {
   "cell_type": "raw",
   "id": "71bf1a65-f610-4867-93c9-9669ad14f480",
   "metadata": {},
   "source": [
    "---\n",
    "title: \"Welcome\"\n",
    "page-layout: full\n",
    "title-block-banner: true\n",
    "---"
   ]
  },
  {
   "cell_type": "raw",
   "id": "f781b849-c6b5-42b1-9b4b-686cb716daac",
   "metadata": {},
   "source": [
    "\n",
    "\n",
    "![](images/yellow_small.jpg)\n",
    "\n"
   ]
  }
 ],
 "metadata": {
  "kernelspec": {
   "display_name": "Python 3 (ipykernel)",
   "language": "python",
   "name": "python3"
  },
  "language_info": {
   "codemirror_mode": {
    "name": "ipython",
    "version": 3
   },
   "file_extension": ".py",
   "mimetype": "text/x-python",
   "name": "python",
   "nbconvert_exporter": "python",
   "pygments_lexer": "ipython3",
   "version": "3.10.6"
  }
 },
 "nbformat": 4,
 "nbformat_minor": 5
}
