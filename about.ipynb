{
 "cells": [
  {
   "cell_type": "raw",
   "id": "a59276a9-47f5-4333-88f7-c390c490a535",
   "metadata": {},
   "source": [
    "---\n",
    "title: \"About\"\n",
    "image: profile.jpg\n",
    "about:\n",
    "  template: jolla\n",
    "  links:\n",
    "    - icon: twitter\n",
    "      text: Twitter\n",
    "      href: https://twitter.com\n",
    "    - icon: linkedin\n",
    "      text: LinkedIn\n",
    "      href: https://linkedin.com\n",
    "    - icon: github\n",
    "      text: Github\n",
    "      href: https://github.com\n",
    "page-layout: full\n",
    "title-block-banner: true\n",
    "---\n"
   ]
  },
  {
   "cell_type": "markdown",
   "id": "31cd08cb-aa42-421e-a277-3d35e37ba1b4",
   "metadata": {
    "tags": []
   },
   "source": [
    "My name is Jon,\n",
    "\n",
    "I live in West Bloomfield, Michigan with my Father and two cats"
   ]
  }
 ],
 "metadata": {
  "kernelspec": {
   "display_name": "Python 3 (ipykernel)",
   "language": "python",
   "name": "python3"
  },
  "language_info": {
   "codemirror_mode": {
    "name": "ipython",
    "version": 3
   },
   "file_extension": ".py",
   "mimetype": "text/x-python",
   "name": "python",
   "nbconvert_exporter": "python",
   "pygments_lexer": "ipython3",
   "version": "3.10.6"
  }
 },
 "nbformat": 4,
 "nbformat_minor": 5
}
